{
 "cells": [
  {
   "cell_type": "markdown",
   "metadata": {},
   "source": [
    "## Observations and Insights "
   ]
  },
  {
   "cell_type": "markdown",
   "metadata": {},
   "source": []
  },
  {
   "cell_type": "markdown",
   "metadata": {},
   "source": [
    "# Observations:\n",
    "\n",
    "1 There were a total of 9 Regimens and 1 Placebo for hypothesis testing\n",
    "2 28 more males mice were used in the experiment\n",
    "3 Capomulin had the most test count with a total of 230\n",
    "4 Propriva had the least test count with a total of 156\n",
    "5 Ceftamin had the most data in Timepoints\n",
    "6 Capomulin had the least data in Timepoints\n",
    "7 Ramicane was found to be an outlier\n",
    "8 Subject 185 had a decrease of Tumor Volume as Timepoints increased"
   ]
  },
  {
   "cell_type": "code",
   "execution_count": 473,
   "metadata": {},
   "outputs": [],
   "source": [
    "# Dependencies and Setup\n",
    "import matplotlib.pyplot as plt\n",
    "import pandas as pd\n",
    "import scipy.stats as st\n",
    "import numpy as np\n",
    "from scipy import stats\n",
    "\n",
    "# Study data files\n",
    "mouse_metadata = \"data/Mouse_metadata.csv\"\n",
    "study_results = \"data/Study_results.csv\"\n",
    "\n",
    "# Read the mouse data and the study results\n",
    "mouse_metadata_df = pd.read_csv(mouse_metadata)\n",
    "study_results_df = pd.read_csv(study_results)\n"
   ]
  },
  {
   "cell_type": "code",
   "execution_count": 474,
   "metadata": {},
   "outputs": [
    {
     "name": "stdout",
     "output_type": "stream",
     "text": [
      "    Mouse ID Drug Regimen     Sex  Age_months  Weight (g)\n",
      "0       k403     Ramicane    Male          21          16\n",
      "1       s185    Capomulin  Female           3          17\n",
      "2       x401    Capomulin  Female          16          15\n",
      "3       m601    Capomulin    Male          22          17\n",
      "4       g791     Ramicane    Male          11          16\n",
      "..       ...          ...     ...         ...         ...\n",
      "244     z314     Stelasyn  Female          21          28\n",
      "245     z435     Propriva  Female          12          26\n",
      "246     z581    Infubinol  Female          24          25\n",
      "247     z795     Naftisol  Female          13          29\n",
      "248     z969     Naftisol    Male           9          30\n",
      "\n",
      "[249 rows x 5 columns]\n"
     ]
    }
   ],
   "source": [
    "# Review Mouse Metadata to confirm dataframe\n",
    "\n",
    "print(mouse_metadata_df)"
   ]
  },
  {
   "cell_type": "code",
   "execution_count": 475,
   "metadata": {},
   "outputs": [
    {
     "name": "stdout",
     "output_type": "stream",
     "text": [
      "     Mouse ID  Timepoint  Tumor Volume (mm3)  Metastatic Sites\n",
      "0        b128          0           45.000000                 0\n",
      "1        f932          0           45.000000                 0\n",
      "2        g107          0           45.000000                 0\n",
      "3        a457          0           45.000000                 0\n",
      "4        c819          0           45.000000                 0\n",
      "...       ...        ...                 ...               ...\n",
      "1888     r944         45           41.581521                 2\n",
      "1889     u364         45           31.023923                 3\n",
      "1890     p438         45           61.433892                 1\n",
      "1891     x773         45           58.634971                 4\n",
      "1892     b879         45           72.555239                 2\n",
      "\n",
      "[1893 rows x 4 columns]\n"
     ]
    }
   ],
   "source": [
    "# Review Study Results to confirm dataframe\n",
    "\n",
    "print(study_results_df)"
   ]
  },
  {
   "cell_type": "code",
   "execution_count": 476,
   "metadata": {},
   "outputs": [
    {
     "name": "stdout",
     "output_type": "stream",
     "text": [
      "     Mouse ID Drug Regimen   Sex  Age_months  Weight (g)  Timepoint  \\\n",
      "0        k403     Ramicane  Male          21          16          0   \n",
      "1        k403     Ramicane  Male          21          16          5   \n",
      "2        k403     Ramicane  Male          21          16         10   \n",
      "3        k403     Ramicane  Male          21          16         15   \n",
      "4        k403     Ramicane  Male          21          16         20   \n",
      "...       ...          ...   ...         ...         ...        ...   \n",
      "1888     z969     Naftisol  Male           9          30         25   \n",
      "1889     z969     Naftisol  Male           9          30         30   \n",
      "1890     z969     Naftisol  Male           9          30         35   \n",
      "1891     z969     Naftisol  Male           9          30         40   \n",
      "1892     z969     Naftisol  Male           9          30         45   \n",
      "\n",
      "      Tumor Volume (mm3)  Metastatic Sites  \n",
      "0              45.000000                 0  \n",
      "1              38.825898                 0  \n",
      "2              35.014271                 1  \n",
      "3              34.223992                 1  \n",
      "4              32.997729                 1  \n",
      "...                  ...               ...  \n",
      "1888           63.145652                 2  \n",
      "1889           65.841013                 3  \n",
      "1890           69.176246                 4  \n",
      "1891           70.314904                 4  \n",
      "1892           73.867845                 4  \n",
      "\n",
      "[1893 rows x 8 columns]\n"
     ]
    }
   ],
   "source": [
    "# Combine the data into a single dataset\n",
    "\n",
    "combined_data_df = pd.merge(mouse_metadata_df,study_results_df, on=\"Mouse ID\")\n",
    "print(combined_data_df)"
   ]
  },
  {
   "cell_type": "code",
   "execution_count": 477,
   "metadata": {},
   "outputs": [
    {
     "name": "stdout",
     "output_type": "stream",
     "text": [
      "     Mouse ID Drug Regimen   Sex  Age_months  Weight (g)  Timepoint  \\\n",
      "0        k403     Ramicane  Male          21          16          0   \n",
      "1        k403     Ramicane  Male          21          16          5   \n",
      "2        k403     Ramicane  Male          21          16         10   \n",
      "3        k403     Ramicane  Male          21          16         15   \n",
      "4        k403     Ramicane  Male          21          16         20   \n",
      "...       ...          ...   ...         ...         ...        ...   \n",
      "1888     z969     Naftisol  Male           9          30         25   \n",
      "1889     z969     Naftisol  Male           9          30         30   \n",
      "1890     z969     Naftisol  Male           9          30         35   \n",
      "1891     z969     Naftisol  Male           9          30         40   \n",
      "1892     z969     Naftisol  Male           9          30         45   \n",
      "\n",
      "      Tumor Volume (mm3)  Metastatic Sites  \n",
      "0              45.000000                 0  \n",
      "1              38.825898                 0  \n",
      "2              35.014271                 1  \n",
      "3              34.223992                 1  \n",
      "4              32.997729                 1  \n",
      "...                  ...               ...  \n",
      "1888           63.145652                 2  \n",
      "1889           65.841013                 3  \n",
      "1890           69.176246                 4  \n",
      "1891           70.314904                 4  \n",
      "1892           73.867845                 4  \n",
      "\n",
      "[1888 rows x 8 columns]\n"
     ]
    }
   ],
   "source": [
    "# Deleting Duplicates on Mouse ID and Timepoint\n",
    "\n",
    "combined_data_df = combined_data_df.drop_duplicates(subset=[\"Mouse ID\", \"Timepoint\"])\n",
    "print(combined_data_df)"
   ]
  },
  {
   "cell_type": "code",
   "execution_count": 478,
   "metadata": {},
   "outputs": [
    {
     "name": "stdout",
     "output_type": "stream",
     "text": [
      "  Mouse ID Drug Regimen   Sex  Age_months  Weight (g)  Timepoint  \\\n",
      "0     k403     Ramicane  Male          21          16          0   \n",
      "1     k403     Ramicane  Male          21          16          5   \n",
      "2     k403     Ramicane  Male          21          16         10   \n",
      "3     k403     Ramicane  Male          21          16         15   \n",
      "4     k403     Ramicane  Male          21          16         20   \n",
      "\n",
      "   Tumor Volume (mm3)  Metastatic Sites  \n",
      "0           45.000000                 0  \n",
      "1           38.825898                 0  \n",
      "2           35.014271                 1  \n",
      "3           34.223992                 1  \n",
      "4           32.997729                 1  \n"
     ]
    }
   ],
   "source": [
    "# Display the data table for preview\n",
    "\n",
    "print(combined_data_df.head())"
   ]
  },
  {
   "cell_type": "code",
   "execution_count": 479,
   "metadata": {},
   "outputs": [
    {
     "name": "stdout",
     "output_type": "stream",
     "text": [
      "m601    10\n",
      "c282    10\n",
      "j755    10\n",
      "a963    10\n",
      "j913    10\n",
      "        ..\n",
      "x226     1\n",
      "l872     1\n",
      "o848     1\n",
      "h428     1\n",
      "b447     1\n",
      "Name: Mouse ID, Length: 249, dtype: int64\n"
     ]
    }
   ],
   "source": [
    "# Checking the number of mice.\n",
    "\n",
    "print(combined_data_df[\"Mouse ID\"].value_counts())"
   ]
  },
  {
   "cell_type": "code",
   "execution_count": 480,
   "metadata": {},
   "outputs": [
    {
     "name": "stdout",
     "output_type": "stream",
     "text": [
      "     Mouse ID Drug Regimen     Sex  Age_months  Weight (g)  Timepoint  \\\n",
      "0        k403     Ramicane    Male          21          16          0   \n",
      "10       s185    Capomulin  Female           3          17          0   \n",
      "20       x401    Capomulin  Female          16          15          0   \n",
      "30       m601    Capomulin    Male          22          17          0   \n",
      "40       g791     Ramicane    Male          11          16          0   \n",
      "...       ...          ...     ...         ...         ...        ...   \n",
      "1858     z314     Stelasyn  Female          21          28          0   \n",
      "1860     z435     Propriva  Female          12          26          0   \n",
      "1863     z581    Infubinol  Female          24          25          0   \n",
      "1873     z795     Naftisol  Female          13          29          0   \n",
      "1883     z969     Naftisol    Male           9          30          0   \n",
      "\n",
      "      Tumor Volume (mm3)  Metastatic Sites  \n",
      "0                   45.0                 0  \n",
      "10                  45.0                 0  \n",
      "20                  45.0                 0  \n",
      "30                  45.0                 0  \n",
      "40                  45.0                 0  \n",
      "...                  ...               ...  \n",
      "1858                45.0                 0  \n",
      "1860                45.0                 0  \n",
      "1863                45.0                 0  \n",
      "1873                45.0                 0  \n",
      "1883                45.0                 0  \n",
      "\n",
      "[249 rows x 8 columns]\n"
     ]
    }
   ],
   "source": [
    "# Create a clean DataFrame by dropping the duplicate mouse by its ID.\n",
    "\n",
    "combined_data_df_clean = combined_data_df.drop_duplicates(subset = [\"Mouse ID\"])\n",
    "print(combined_data_df_clean)"
   ]
  },
  {
   "cell_type": "code",
   "execution_count": 481,
   "metadata": {},
   "outputs": [
    {
     "name": "stdout",
     "output_type": "stream",
     "text": [
      "t573    1\n",
      "a457    1\n",
      "v923    1\n",
      "d251    1\n",
      "q610    1\n",
      "       ..\n",
      "a818    1\n",
      "r850    1\n",
      "s565    1\n",
      "l661    1\n",
      "b447    1\n",
      "Name: Mouse ID, Length: 249, dtype: int64\n"
     ]
    }
   ],
   "source": [
    "# Checking the number of mice in the clean DataFrame.\n",
    "\n",
    "print(combined_data_df_clean[\"Mouse ID\"].value_counts())"
   ]
  },
  {
   "cell_type": "markdown",
   "metadata": {},
   "source": [
    "## Summary Statistics"
   ]
  },
  {
   "cell_type": "code",
   "execution_count": 482,
   "metadata": {},
   "outputs": [
    {
     "name": "stdout",
     "output_type": "stream",
     "text": [
      "The mean Tumor Volume is 50.449276454131365\n"
     ]
    }
   ],
   "source": [
    "# Generate a summary statistics table of mean, median, variance, standard deviation, and SEM of the tumor volume for each regimen\n",
    "\n",
    "tumor_volume = combined_data_df[\"Tumor Volume (mm3)\"] \n",
    "\n",
    "# Total Mean\n",
    "mean_tv = np.mean(tumor_volume)\n",
    "print(f\"The mean Tumor Volume is {mean_tv}\")"
   ]
  },
  {
   "cell_type": "code",
   "execution_count": 483,
   "metadata": {},
   "outputs": [
    {
     "name": "stdout",
     "output_type": "stream",
     "text": [
      "The median Tumor Volume is 48.951421075\n"
     ]
    }
   ],
   "source": [
    "# Total Median \n",
    "\n",
    "median_tv = np.median(tumor_volume)\n",
    "print(f\"The median Tumor Volume is {median_tv}\")"
   ]
  },
  {
   "cell_type": "code",
   "execution_count": 484,
   "metadata": {},
   "outputs": [
    {
     "name": "stdout",
     "output_type": "stream",
     "text": [
      "The variance is 79.24927995522994\n"
     ]
    }
   ],
   "source": [
    "# Total Variance\n",
    "\n",
    "var_tv = np.var(tumor_volume, ddof=0)\n",
    "print(f\"The variance is {var_tv}\")"
   ]
  },
  {
   "cell_type": "code",
   "execution_count": 485,
   "metadata": {},
   "outputs": [
    {
     "name": "stdout",
     "output_type": "stream",
     "text": [
      "The Standard Deviation is 8.902206465547176\n"
     ]
    }
   ],
   "source": [
    "# Total Standard Deviation\n",
    "\n",
    "sd_tv = np.std(tumor_volume, ddof=0)\n",
    "print(f\"The Standard Deviation is {sd_tv}\")"
   ]
  },
  {
   "cell_type": "code",
   "execution_count": 486,
   "metadata": {},
   "outputs": [
    {
     "name": "stdout",
     "output_type": "stream",
     "text": [
      "0        8.298193\n",
      "1        6.792957\n",
      "2        5.682101\n",
      "3        5.351059\n",
      "4        5.151372\n",
      "          ...    \n",
      "1888    10.634034\n",
      "1889    11.011380\n",
      "1890    11.565430\n",
      "1891    11.916572\n",
      "1892    12.724423\n",
      "Length: 1888, dtype: float64\n"
     ]
    }
   ],
   "source": [
    "# Total SEM\n",
    "\n",
    "print(combined_data_df.sem(axis = 1))\n"
   ]
  },
  {
   "cell_type": "code",
   "execution_count": 487,
   "metadata": {},
   "outputs": [
    {
     "name": "stdout",
     "output_type": "stream",
     "text": [
      "   Total Mean  Total Median  Total Variance  Total Standard Deviation\n",
      "0       50.45         48.95           79.25                       8.9\n"
     ]
    }
   ],
   "source": [
    "# Total Statistical DataFrame\n",
    "\n",
    "total_stat_dataframe = pd.DataFrame({\"Total Mean\": [50.45], \"Total Median\": [48.95], \"Total Variance\":[79.25], \"Total Standard Deviation\": [8.9]})\n",
    "print(total_stat_dataframe)"
   ]
  },
  {
   "cell_type": "code",
   "execution_count": 488,
   "metadata": {},
   "outputs": [
    {
     "name": "stdout",
     "output_type": "stream",
     "text": [
      "Capomulin    230\n",
      "Ramicane     228\n",
      "Ketapril     188\n",
      "Naftisol     186\n",
      "Zoniferol    182\n",
      "Stelasyn     181\n",
      "Placebo      181\n",
      "Infubinol    178\n",
      "Ceftamin     178\n",
      "Propriva     156\n",
      "Name: Drug Regimen, dtype: int64\n"
     ]
    }
   ],
   "source": [
    "# Use groupby and summary statistical methods to calculate the following properties of each drug regimen: \n",
    "# mean, median, variance, standard deviation, and SEM of the tumor volume. \n",
    "\n",
    "#Value Counts to review all regimens\n",
    "print(combined_data_df[\"Drug Regimen\"].value_counts())"
   ]
  },
  {
   "cell_type": "code",
   "execution_count": 489,
   "metadata": {},
   "outputs": [
    {
     "name": "stdout",
     "output_type": "stream",
     "text": [
      "  Mouse ID Drug Regimen   Sex  Age_months  Weight (g)  Timepoint  \\\n",
      "0     k403     Ramicane  Male          21          16          0   \n",
      "1     k403     Ramicane  Male          21          16          5   \n",
      "2     k403     Ramicane  Male          21          16         10   \n",
      "3     k403     Ramicane  Male          21          16         15   \n",
      "4     k403     Ramicane  Male          21          16         20   \n",
      "\n",
      "   Tumor Volume (mm3)  Metastatic Sites  \n",
      "0           45.000000                 0  \n",
      "1           38.825898                 0  \n",
      "2           35.014271                 1  \n",
      "3           34.223992                 1  \n",
      "4           32.997729                 1  \n"
     ]
    }
   ],
   "source": [
    "#Ramicane DataFrame\n",
    "\n",
    "ramicane_group_df = combined_data_df.loc[combined_data_df[\"Drug Regimen\"] == \"Ramicane\",:]\n",
    "print(ramicane_group_df.head())"
   ]
  },
  {
   "cell_type": "code",
   "execution_count": 490,
   "metadata": {},
   "outputs": [
    {
     "name": "stdout",
     "output_type": "stream",
     "text": [
      "40.2167450667105\n",
      "40.67323554\n",
      "23.38369209265624\n",
      "4.83566873272521\n"
     ]
    }
   ],
   "source": [
    "# Ramicane DataFrame Data\n",
    "tumor_volume_r = ramicane_group_df[\"Tumor Volume (mm3)\"] \n",
    "\n",
    "# Total Mean, Median, Variance, Standard Deviation, SEM\n",
    "mean_tv_r = np.mean(tumor_volume_r)\n",
    "median_tv_r = np.median(tumor_volume_r)\n",
    "var_tv_r = np.var(tumor_volume_r, ddof=0)\n",
    "sd_tv_r = np.std(tumor_volume_r, ddof=0)\n",
    "\n",
    "print(mean_tv_r)\n",
    "print(median_tv_r)\n",
    "print(var_tv_r)\n",
    "print(sd_tv_r)"
   ]
  },
  {
   "cell_type": "code",
   "execution_count": 491,
   "metadata": {},
   "outputs": [
    {
     "name": "stdout",
     "output_type": "stream",
     "text": [
      "0      8.298193\n",
      "1      6.792957\n",
      "2      5.682101\n",
      "3      5.351059\n",
      "4      5.151372\n",
      "         ...   \n",
      "449    8.057313\n",
      "450    8.405950\n",
      "451    8.075117\n",
      "452    7.786933\n",
      "453    7.162003\n",
      "Length: 228, dtype: float64\n"
     ]
    }
   ],
   "source": [
    "# Ramicane SEM\n",
    "\n",
    "print(ramicane_group_df.sem(axis = 1))"
   ]
  },
  {
   "cell_type": "code",
   "execution_count": 492,
   "metadata": {},
   "outputs": [
    {
     "name": "stdout",
     "output_type": "stream",
     "text": [
      "    Mouse ID Drug Regimen     Sex  Age_months  Weight (g)  Timepoint  \\\n",
      "511     a457     Ketapril  Female          11          30          0   \n",
      "512     a457     Ketapril  Female          11          30          5   \n",
      "513     a457     Ketapril  Female          11          30         10   \n",
      "690     c580     Ketapril    Male          22          25          0   \n",
      "691     c580     Ketapril    Male          22          25          5   \n",
      "\n",
      "     Tumor Volume (mm3)  Metastatic Sites  \n",
      "511           45.000000                 0  \n",
      "512           47.462891                 0  \n",
      "513           49.783419                 0  \n",
      "690           45.000000                 0  \n",
      "691           46.628455                 0  \n"
     ]
    }
   ],
   "source": [
    "# Ketapril DataFrame \n",
    "\n",
    "ketapril_group_df = combined_data_df.loc[combined_data_df[\"Drug Regimen\"] == \"Ketapril\",:]\n",
    "print(ketapril_group_df.head())"
   ]
  },
  {
   "cell_type": "code",
   "execution_count": 493,
   "metadata": {},
   "outputs": [
    {
     "name": "stdout",
     "output_type": "stream",
     "text": [
      "55.23563764047869\n",
      "53.698742644999996\n",
      "68.18893042567763\n",
      "8.257658894970028\n"
     ]
    }
   ],
   "source": [
    "# Ketapril DataFrame Data\n",
    "tumor_volume_k = ketapril_group_df[\"Tumor Volume (mm3)\"] \n",
    "\n",
    "# Total Mean, Median, Variance, Standard Deviation, SEM\n",
    "mean_tv_k = np.mean(tumor_volume_k)\n",
    "median_tv_k = np.median(tumor_volume_k)\n",
    "var_tv_k = np.var(tumor_volume_k, ddof=0)\n",
    "sd_tv_k = np.std(tumor_volume_k, ddof=0)\n",
    "\n",
    "print(mean_tv_k)\n",
    "print(median_tv_k)\n",
    "print(var_tv_k)\n",
    "print(sd_tv_k)"
   ]
  },
  {
   "cell_type": "code",
   "execution_count": 494,
   "metadata": {},
   "outputs": [
    {
     "name": "stdout",
     "output_type": "stream",
     "text": [
      "511      8.850989\n",
      "512      8.808132\n",
      "513      8.854178\n",
      "690      8.488816\n",
      "691      8.254388\n",
      "          ...    \n",
      "1819     8.981319\n",
      "1820     9.792245\n",
      "1821    10.139345\n",
      "1822    10.609992\n",
      "1823    11.248583\n",
      "Length: 188, dtype: float64\n"
     ]
    }
   ],
   "source": [
    "print(ketapril_group_df.sem(axis = 1))"
   ]
  },
  {
   "cell_type": "code",
   "execution_count": 495,
   "metadata": {},
   "outputs": [
    {
     "name": "stdout",
     "output_type": "stream",
     "text": [
      "    Mouse ID Drug Regimen     Sex  Age_months  Weight (g)  Timepoint  \\\n",
      "474     a262      Placebo  Female          17          29          0   \n",
      "475     a262      Placebo  Female          17          29          5   \n",
      "476     a262      Placebo  Female          17          29         10   \n",
      "477     a262      Placebo  Female          17          29         15   \n",
      "478     a262      Placebo  Female          17          29         20   \n",
      "\n",
      "     Tumor Volume (mm3)  Metastatic Sites  \n",
      "474           45.000000                 0  \n",
      "475           48.717568                 1  \n",
      "476           49.595181                 1  \n",
      "477           53.827974                 2  \n",
      "478           57.013313                 2  \n"
     ]
    }
   ],
   "source": [
    "#Placebo DataFrame\n",
    "\n",
    "placebo_group_df = combined_data_df.loc[combined_data_df[\"Drug Regimen\"] == \"Placebo\",:]\n",
    "print(placebo_group_df.head())"
   ]
  },
  {
   "cell_type": "code",
   "execution_count": 496,
   "metadata": {},
   "outputs": [
    {
     "name": "stdout",
     "output_type": "stream",
     "text": [
      "54.03358078635358\n",
      "52.28893409\n",
      "60.830137727102\n",
      "7.799367777397217\n"
     ]
    }
   ],
   "source": [
    "# Placebo DataFrame Data\n",
    "tumor_volume_p = placebo_group_df[\"Tumor Volume (mm3)\"] \n",
    "\n",
    "# Total Mean, Median, Variance, Standard Deviation, SEM\n",
    "mean_tv_k = np.mean(tumor_volume_p)\n",
    "median_tv_k = np.median(tumor_volume_p)\n",
    "var_tv_k = np.var(tumor_volume_p, ddof=0)\n",
    "sd_tv_k = np.std(tumor_volume_p, ddof=0)\n",
    "\n",
    "print(mean_tv_k)\n",
    "print(median_tv_k)\n",
    "print(var_tv_k)\n",
    "print(sd_tv_k)"
   ]
  },
  {
   "cell_type": "code",
   "execution_count": 497,
   "metadata": {},
   "outputs": [
    {
     "name": "stdout",
     "output_type": "stream",
     "text": [
      "474      8.656789\n",
      "475      8.661974\n",
      "476      8.420735\n",
      "477      8.736978\n",
      "478      9.107283\n",
      "          ...    \n",
      "1829    10.254035\n",
      "1830    10.625053\n",
      "1831    11.226239\n",
      "1832    12.132082\n",
      "1833    12.571015\n",
      "Length: 181, dtype: float64\n"
     ]
    }
   ],
   "source": [
    "\n",
    "print(placebo_group_df.sem(axis = 1))"
   ]
  },
  {
   "cell_type": "code",
   "execution_count": 498,
   "metadata": {},
   "outputs": [
    {
     "name": "stdout",
     "output_type": "stream",
     "text": [
      "    Mouse ID Drug Regimen     Sex  Age_months  Weight (g)  Timepoint  \\\n",
      "501     a401    Zoniferol  Female           8          25          0   \n",
      "502     a401    Zoniferol  Female           8          25          5   \n",
      "503     a401    Zoniferol  Female           8          25         10   \n",
      "504     a401    Zoniferol  Female           8          25         15   \n",
      "505     a401    Zoniferol  Female           8          25         20   \n",
      "\n",
      "     Tumor Volume (mm3)  Metastatic Sites  \n",
      "501           45.000000                 0  \n",
      "502           46.111986                 0  \n",
      "503           47.725937                 1  \n",
      "504           49.934725                 1  \n",
      "505           52.204511                 2  \n"
     ]
    }
   ],
   "source": [
    "#Zoniferol DataFrame\n",
    "\n",
    "zoniferol_group_df = combined_data_df.loc[combined_data_df[\"Drug Regimen\"] == \"Zoniferol\",:]\n",
    "print(zoniferol_group_df.head())"
   ]
  },
  {
   "cell_type": "code",
   "execution_count": 499,
   "metadata": {},
   "outputs": [
    {
     "name": "stdout",
     "output_type": "stream",
     "text": [
      "53.236506551593415\n",
      "51.818479325\n",
      "48.266688601532294\n",
      "6.947423162693654\n"
     ]
    }
   ],
   "source": [
    "# Zoniferol DataFrame Data\n",
    "tumor_volume_z = zoniferol_group_df[\"Tumor Volume (mm3)\"] \n",
    "\n",
    "# Total Mean, Median, Variance, Standard Deviation, SEM\n",
    "mean_tv_z = np.mean(tumor_volume_z)\n",
    "median_tv_z = np.median(tumor_volume_z)\n",
    "var_tv_z = np.var(tumor_volume_z, ddof=0)\n",
    "sd_tv_z = np.std(tumor_volume_z, ddof=0)\n",
    "\n",
    "print(mean_tv_z)\n",
    "print(median_tv_z)\n",
    "print(var_tv_z)\n",
    "print(sd_tv_z)"
   ]
  },
  {
   "cell_type": "code",
   "execution_count": 500,
   "metadata": {},
   "outputs": [
    {
     "name": "stdout",
     "output_type": "stream",
     "text": [
      "501      8.652167\n",
      "502      8.442008\n",
      "503      8.321765\n",
      "504      8.517220\n",
      "505      8.717080\n",
      "          ...    \n",
      "1719    11.417139\n",
      "1774     9.259590\n",
      "1775     9.074559\n",
      "1776     8.928984\n",
      "1777     8.975910\n",
      "Length: 182, dtype: float64\n"
     ]
    }
   ],
   "source": [
    "\n",
    "print(zoniferol_group_df.sem(axis = 1))"
   ]
  },
  {
   "cell_type": "code",
   "execution_count": 501,
   "metadata": {},
   "outputs": [
    {
     "name": "stdout",
     "output_type": "stream",
     "text": [
      "    Mouse ID Drug Regimen     Sex  Age_months  Weight (g)  Timepoint  \\\n",
      "484     a275     Ceftamin  Female          20          28          0   \n",
      "485     a275     Ceftamin  Female          20          28          5   \n",
      "486     a275     Ceftamin  Female          20          28         10   \n",
      "487     a275     Ceftamin  Female          20          28         15   \n",
      "488     a275     Ceftamin  Female          20          28         20   \n",
      "\n",
      "     Tumor Volume (mm3)  Metastatic Sites  \n",
      "484           45.000000                 0  \n",
      "485           46.795257                 0  \n",
      "486           47.371343                 0  \n",
      "487           49.734404                 0  \n",
      "488           50.513437                 1  \n"
     ]
    }
   ],
   "source": [
    "#Ceftamin DataFrame\n",
    "\n",
    "ceftamin_group_df = combined_data_df.loc[combined_data_df[\"Drug Regimen\"] == \"Ceftamin\",:]\n",
    "print(ceftamin_group_df.head())"
   ]
  },
  {
   "cell_type": "code",
   "execution_count": 502,
   "metadata": {},
   "outputs": [
    {
     "name": "stdout",
     "output_type": "stream",
     "text": [
      "52.59117180960677\n",
      "51.77615728000001\n",
      "39.06944594028265\n",
      "6.250555650522812\n"
     ]
    }
   ],
   "source": [
    "# Ceftamin DataFrame Data\n",
    "tumor_volume_c = ceftamin_group_df[\"Tumor Volume (mm3)\"] \n",
    "\n",
    "# Total Mean, Median, Variance, Standard Deviation, SEM\n",
    "mean_tv_c = np.mean(tumor_volume_c)\n",
    "median_tv_c = np.median(tumor_volume_c)\n",
    "var_tv_c = np.var(tumor_volume_c, ddof=0)\n",
    "sd_tv_c = np.std(tumor_volume_c, ddof=0)\n",
    "\n",
    "print(mean_tv_c)\n",
    "print(median_tv_c)\n",
    "print(var_tv_c)\n",
    "print(sd_tv_c)"
   ]
  },
  {
   "cell_type": "code",
   "execution_count": 503,
   "metadata": {},
   "outputs": [
    {
     "name": "stdout",
     "output_type": "stream",
     "text": [
      "484      8.600000\n",
      "485      8.387423\n",
      "486      8.085234\n",
      "487      8.187496\n",
      "488      7.999734\n",
      "          ...    \n",
      "1851     8.819794\n",
      "1852     9.002363\n",
      "1853     9.457367\n",
      "1854    10.020548\n",
      "1855    10.482470\n",
      "Length: 178, dtype: float64\n"
     ]
    }
   ],
   "source": [
    "\n",
    "print(ceftamin_group_df.sem(axis = 1))"
   ]
  },
  {
   "cell_type": "code",
   "execution_count": 504,
   "metadata": {},
   "outputs": [
    {
     "name": "stdout",
     "output_type": "stream",
     "text": [
      "    Mouse ID Drug Regimen     Sex  Age_months  Weight (g)  Timepoint  \\\n",
      "454     a203    Infubinol  Female          20          23          0   \n",
      "455     a203    Infubinol  Female          20          23          5   \n",
      "456     a203    Infubinol  Female          20          23         10   \n",
      "457     a203    Infubinol  Female          20          23         15   \n",
      "458     a203    Infubinol  Female          20          23         20   \n",
      "\n",
      "     Tumor Volume (mm3)  Metastatic Sites  \n",
      "454           45.000000                 0  \n",
      "455           48.508468                 0  \n",
      "456           51.852437                 1  \n",
      "457           52.777870                 1  \n",
      "458           55.173336                 1  \n"
     ]
    }
   ],
   "source": [
    "#Infubinol DataFrame\n",
    "\n",
    "infubinol_group_df = combined_data_df.loc[combined_data_df[\"Drug Regimen\"] == \"Infubinol\",:]\n",
    "print(infubinol_group_df.head())"
   ]
  },
  {
   "cell_type": "code",
   "execution_count": 505,
   "metadata": {},
   "outputs": [
    {
     "name": "stdout",
     "output_type": "stream",
     "text": [
      "52.88479510859551\n",
      "51.82058438\n",
      "42.88638815058418\n",
      "6.54876997233711\n"
     ]
    }
   ],
   "source": [
    "# Infubinol DataFrame Data\n",
    "tumor_volume_i = infubinol_group_df[\"Tumor Volume (mm3)\"] \n",
    "\n",
    "# Total Mean, Median, Variance, Standard Deviation, SEM\n",
    "mean_tv_i = np.mean(tumor_volume_i)\n",
    "median_tv_i = np.median(tumor_volume_i)\n",
    "var_tv_i = np.var(tumor_volume_i, ddof=0)\n",
    "sd_tv_i = np.std(tumor_volume_i, ddof=0)\n",
    "\n",
    "print(mean_tv_i)\n",
    "print(median_tv_i)\n",
    "print(var_tv_i)\n",
    "print(sd_tv_i)"
   ]
  },
  {
   "cell_type": "code",
   "execution_count": 506,
   "metadata": {},
   "outputs": [
    {
     "name": "stdout",
     "output_type": "stream",
     "text": [
      "454      8.382124\n",
      "455      8.497925\n",
      "456      8.595719\n",
      "457      8.490127\n",
      "458      8.756827\n",
      "          ...    \n",
      "1868     8.318049\n",
      "1869     8.670836\n",
      "1870     9.029848\n",
      "1871     9.466741\n",
      "1872    10.170605\n",
      "Length: 178, dtype: float64\n"
     ]
    }
   ],
   "source": [
    "\n",
    "print(infubinol_group_df.sem(axis = 1))"
   ]
  },
  {
   "cell_type": "code",
   "execution_count": 507,
   "metadata": {},
   "outputs": [
    {
     "name": "stdout",
     "output_type": "stream",
     "text": [
      "    Mouse ID Drug Regimen     Sex  Age_months  Weight (g)  Timepoint  \\\n",
      "541     a699     Propriva  Female           5          28          0   \n",
      "542     a699     Propriva  Female           5          28          5   \n",
      "543     a699     Propriva  Female           5          28         10   \n",
      "544     a699     Propriva  Female           5          28         15   \n",
      "545     a699     Propriva  Female           5          28         20   \n",
      "\n",
      "     Tumor Volume (mm3)  Metastatic Sites  \n",
      "541           45.000000                 0  \n",
      "542           46.553090                 0  \n",
      "543           47.867376                 0  \n",
      "544           49.530401                 0  \n",
      "545           50.712423                 0  \n"
     ]
    }
   ],
   "source": [
    "#Propriva DataFrame\n",
    "\n",
    "propriva_group_df = combined_data_df.loc[combined_data_df[\"Drug Regimen\"] == \"Propriva\",:]\n",
    "print(propriva_group_df.head())"
   ]
  },
  {
   "cell_type": "code",
   "execution_count": 508,
   "metadata": {},
   "outputs": [
    {
     "name": "stdout",
     "output_type": "stream",
     "text": [
      "45.0\n",
      "45.0\n",
      "0.0\n",
      "0.0\n"
     ]
    }
   ],
   "source": [
    "# Propriva DataFrame Data\n",
    "tumor_volume_pr = propriva_group_df[\"Tumor Volume (mm3)\"] \n",
    "\n",
    "# Total Mean, Median, Variance, Standard Deviation, SEM\n",
    "mean_tv_pr = np.mean(tumor_volume_pr)\n",
    "median_tv_pr = np.median(tumor_volume_pr)\n",
    "var_tv_pr = np.var(tumor_volume_pr, ddof=0)\n",
    "sd_tv_pr = np.std(tumor_volume_pr, ddof=0)\n",
    "\n",
    "print(mean_tv_p)\n",
    "print(median_tv_p)\n",
    "print(var_tv_p)\n",
    "print(sd_tv_p)"
   ]
  },
  {
   "cell_type": "code",
   "execution_count": 509,
   "metadata": {},
   "outputs": [
    {
     "name": "stdout",
     "output_type": "stream",
     "text": [
      "541     8.992219\n",
      "542     8.863817\n",
      "543     8.800312\n",
      "544     8.901755\n",
      "545     9.026341\n",
      "          ...   \n",
      "1741    8.834023\n",
      "1742    8.893249\n",
      "1860    8.565045\n",
      "1861    8.487454\n",
      "1862    8.432491\n",
      "Length: 156, dtype: float64\n"
     ]
    }
   ],
   "source": [
    "\n",
    "print(propriva_group_df.sem(axis = 1))"
   ]
  },
  {
   "cell_type": "code",
   "execution_count": 510,
   "metadata": {},
   "outputs": [
    {
     "name": "stdout",
     "output_type": "stream",
     "text": [
      "    Mouse ID Drug Regimen     Sex  Age_months  Weight (g)  Timepoint  \\\n",
      "10      s185    Capomulin  Female           3          17          0   \n",
      "11      s185    Capomulin  Female           3          17          5   \n",
      "12      s185    Capomulin  Female           3          17         10   \n",
      "13      s185    Capomulin  Female           3          17         15   \n",
      "14      s185    Capomulin  Female           3          17         20   \n",
      "15      s185    Capomulin  Female           3          17         25   \n",
      "16      s185    Capomulin  Female           3          17         30   \n",
      "17      s185    Capomulin  Female           3          17         35   \n",
      "18      s185    Capomulin  Female           3          17         40   \n",
      "19      s185    Capomulin  Female           3          17         45   \n",
      "20      x401    Capomulin  Female          16          15          0   \n",
      "21      x401    Capomulin  Female          16          15          5   \n",
      "22      x401    Capomulin  Female          16          15         10   \n",
      "23      x401    Capomulin  Female          16          15         15   \n",
      "24      x401    Capomulin  Female          16          15         20   \n",
      "25      x401    Capomulin  Female          16          15         25   \n",
      "26      x401    Capomulin  Female          16          15         30   \n",
      "27      x401    Capomulin  Female          16          15         35   \n",
      "28      x401    Capomulin  Female          16          15         40   \n",
      "29      x401    Capomulin  Female          16          15         45   \n",
      "30      m601    Capomulin    Male          22          17          0   \n",
      "31      m601    Capomulin    Male          22          17          5   \n",
      "32      m601    Capomulin    Male          22          17         10   \n",
      "33      m601    Capomulin    Male          22          17         15   \n",
      "34      m601    Capomulin    Male          22          17         20   \n",
      "35      m601    Capomulin    Male          22          17         25   \n",
      "36      m601    Capomulin    Male          22          17         30   \n",
      "37      m601    Capomulin    Male          22          17         35   \n",
      "38      m601    Capomulin    Male          22          17         40   \n",
      "39      m601    Capomulin    Male          22          17         45   \n",
      "60      f966    Capomulin    Male          16          17          0   \n",
      "61      f966    Capomulin    Male          16          17          5   \n",
      "62      f966    Capomulin    Male          16          17         10   \n",
      "63      f966    Capomulin    Male          16          17         15   \n",
      "64      f966    Capomulin    Male          16          17         20   \n",
      "95      u364    Capomulin    Male          18          17          0   \n",
      "96      u364    Capomulin    Male          18          17          5   \n",
      "97      u364    Capomulin    Male          18          17         10   \n",
      "98      u364    Capomulin    Male          18          17         15   \n",
      "99      u364    Capomulin    Male          18          17         20   \n",
      "100     u364    Capomulin    Male          18          17         25   \n",
      "101     u364    Capomulin    Male          18          17         30   \n",
      "102     u364    Capomulin    Male          18          17         35   \n",
      "103     u364    Capomulin    Male          18          17         40   \n",
      "104     u364    Capomulin    Male          18          17         45   \n",
      "115     y793    Capomulin    Male          17          17          0   \n",
      "116     y793    Capomulin    Male          17          17          5   \n",
      "117     y793    Capomulin    Male          17          17         10   \n",
      "118     y793    Capomulin    Male          17          17         15   \n",
      "119     y793    Capomulin    Male          17          17         20   \n",
      "\n",
      "     Tumor Volume (mm3)  Metastatic Sites  \n",
      "10            45.000000                 0  \n",
      "11            43.878496                 0  \n",
      "12            37.614948                 0  \n",
      "13            38.177232                 0  \n",
      "14            36.866876                 0  \n",
      "15            33.949940                 0  \n",
      "16            32.959671                 1  \n",
      "17            28.328531                 1  \n",
      "18            25.472143                 1  \n",
      "19            23.343598                 1  \n",
      "20            45.000000                 0  \n",
      "21            45.473753                 0  \n",
      "22            39.113891                 0  \n",
      "23            39.776250                 0  \n",
      "24            36.065835                 0  \n",
      "25            36.617120                 0  \n",
      "26            32.915292                 0  \n",
      "27            30.206825                 0  \n",
      "28            28.167397                 0  \n",
      "29            28.484033                 0  \n",
      "30            45.000000                 0  \n",
      "31            41.408591                 1  \n",
      "32            36.825367                 1  \n",
      "33            35.464612                 1  \n",
      "34            34.255732                 1  \n",
      "35            33.118756                 1  \n",
      "36            31.758275                 1  \n",
      "37            30.834357                 1  \n",
      "38            31.378045                 1  \n",
      "39            28.430964                 1  \n",
      "60            45.000000                 0  \n",
      "61            38.796474                 0  \n",
      "62            35.624403                 0  \n",
      "63            32.623003                 0  \n",
      "64            30.485985                 0  \n",
      "95            45.000000                 0  \n",
      "96            45.760886                 1  \n",
      "97            46.568417                 2  \n",
      "98            47.212200                 2  \n",
      "99            40.343948                 2  \n",
      "100           35.503616                 2  \n",
      "101           35.978334                 2  \n",
      "102           35.459490                 2  \n",
      "103           36.024138                 2  \n",
      "104           31.023923                 3  \n",
      "115           45.000000                 0  \n",
      "116           41.019913                 0  \n",
      "117           41.630010                 1  \n",
      "118           42.283665                 1  \n",
      "119           40.716428                 2  \n"
     ]
    }
   ],
   "source": [
    "#Capomulin DataFrame\n",
    "\n",
    "capomulin_group_df = combined_data_df.loc[combined_data_df[\"Drug Regimen\"] == \"Capomulin\",:]\n",
    "print(capomulin_group_df.head(50))"
   ]
  },
  {
   "cell_type": "code",
   "execution_count": 511,
   "metadata": {},
   "outputs": [
    {
     "name": "stdout",
     "output_type": "stream",
     "text": [
      "40.67574114100001\n",
      "41.557808879999996\n",
      "24.839295580601572\n",
      "4.9839036488079875\n"
     ]
    }
   ],
   "source": [
    "# Capomulin DataFrame Data\n",
    "tumor_volume_ca = capomulin_group_df[\"Tumor Volume (mm3)\"] \n",
    "\n",
    "# Total Mean, Median, Variance, Standard Deviation, SEM\n",
    "mean_tv_ca = np.mean(tumor_volume_ca)\n",
    "median_tv_ca = np.median(tumor_volume_ca)\n",
    "var_tv_ca = np.var(tumor_volume_ca, ddof=0)\n",
    "sd_tv_ca = np.std(tumor_volume_ca, ddof=0)\n",
    "\n",
    "print(mean_tv_ca)\n",
    "print(median_tv_ca)\n",
    "print(var_tv_ca)\n",
    "print(sd_tv_ca)"
   ]
  },
  {
   "cell_type": "code",
   "execution_count": 512,
   "metadata": {},
   "outputs": [
    {
     "name": "stdout",
     "output_type": "stream",
     "text": [
      "10       8.596511\n",
      "11       8.060623\n",
      "12       6.702716\n",
      "13       6.743588\n",
      "14       6.616129\n",
      "          ...    \n",
      "440     10.148102\n",
      "1452     8.488816\n",
      "1453     8.087196\n",
      "1454     7.766051\n",
      "1455     7.562228\n",
      "Length: 230, dtype: float64\n"
     ]
    }
   ],
   "source": [
    "\n",
    "print(capomulin_group_df.sem(axis = 1))"
   ]
  },
  {
   "cell_type": "code",
   "execution_count": 513,
   "metadata": {},
   "outputs": [
    {
     "name": "stdout",
     "output_type": "stream",
     "text": [
      "    Mouse ID Drug Regimen     Sex  Age_months  Weight (g)  Timepoint  \\\n",
      "558     a818     Naftisol  Female          12          28          0   \n",
      "559     a818     Naftisol  Female          12          28          5   \n",
      "560     a818     Naftisol  Female          12          28         10   \n",
      "561     a818     Naftisol  Female          12          28         15   \n",
      "562     a818     Naftisol  Female          12          28         20   \n",
      "\n",
      "     Tumor Volume (mm3)  Metastatic Sites  \n",
      "558           45.000000                 0  \n",
      "559           45.696709                 0  \n",
      "560           49.790919                 0  \n",
      "561           51.227566                 0  \n",
      "562           54.834624                 0  \n"
     ]
    }
   ],
   "source": [
    "#Naftisol DataFrame\n",
    "\n",
    "naftisol_group_df = combined_data_df.loc[combined_data_df[\"Drug Regimen\"] == \"Naftisol\",:]\n",
    "print(naftisol_group_df.head())"
   ]
  },
  {
   "cell_type": "code",
   "execution_count": 514,
   "metadata": {},
   "outputs": [
    {
     "name": "stdout",
     "output_type": "stream",
     "text": [
      "54.331564658333306\n",
      "52.509284609999995\n",
      "65.8177075949599\n",
      "8.112811324994555\n"
     ]
    }
   ],
   "source": [
    "# Naftisol DataFrame Data\n",
    "tumor_volume_n = naftisol_group_df[\"Tumor Volume (mm3)\"] \n",
    "\n",
    "# Total Mean, Median, Variance, Standard Deviation, SEM\n",
    "mean_tv_n = np.mean(tumor_volume_n)\n",
    "median_tv_n = np.median(tumor_volume_n)\n",
    "var_tv_n = np.var(tumor_volume_n, ddof=0)\n",
    "sd_tv_n = np.std(tumor_volume_n, ddof=0)\n",
    "\n",
    "print(mean_tv_n)\n",
    "print(median_tv_n)\n",
    "print(var_tv_n)\n",
    "print(sd_tv_n)"
   ]
  },
  {
   "cell_type": "code",
   "execution_count": 515,
   "metadata": {},
   "outputs": [
    {
     "name": "stdout",
     "output_type": "stream",
     "text": [
      "558      8.683317\n",
      "559      8.354671\n",
      "560      8.704855\n",
      "561      8.718957\n",
      "562      9.212594\n",
      "          ...    \n",
      "1888    10.634034\n",
      "1889    11.011380\n",
      "1890    11.565430\n",
      "1891    11.916572\n",
      "1892    12.724423\n",
      "Length: 186, dtype: float64\n"
     ]
    }
   ],
   "source": [
    "\n",
    "print(naftisol_group_df.sem(axis = 1))"
   ]
  },
  {
   "cell_type": "code",
   "execution_count": 516,
   "metadata": {},
   "outputs": [
    {
     "name": "stdout",
     "output_type": "stream",
     "text": [
      "    Mouse ID Drug Regimen     Sex  Age_months  Weight (g)  Timepoint  \\\n",
      "494     a366     Stelasyn  Female          16          29          0   \n",
      "495     a366     Stelasyn  Female          16          29          5   \n",
      "496     a366     Stelasyn  Female          16          29         10   \n",
      "497     a366     Stelasyn  Female          16          29         15   \n",
      "498     a366     Stelasyn  Female          16          29         20   \n",
      "\n",
      "     Tumor Volume (mm3)  Metastatic Sites  \n",
      "494           45.000000                 0  \n",
      "495           48.951368                 0  \n",
      "496           53.523990                 0  \n",
      "497           55.265582                 0  \n",
      "498           57.285987                 0  \n"
     ]
    }
   ],
   "source": [
    "#Stelasyn DataFrame\n",
    "\n",
    "stelasyn_group_df = combined_data_df.loc[combined_data_df[\"Drug Regimen\"] == \"Stelasyn\",:]\n",
    "print(stelasyn_group_df.head())"
   ]
  },
  {
   "cell_type": "code",
   "execution_count": 517,
   "metadata": {},
   "outputs": [
    {
     "name": "stdout",
     "output_type": "stream",
     "text": [
      "54.23314911988949\n",
      "52.43173664\n",
      "59.122105531524184\n",
      "7.6890900327362655\n"
     ]
    }
   ],
   "source": [
    "# Stelasyn DataFrame Data\n",
    "tumor_volume_s = stelasyn_group_df[\"Tumor Volume (mm3)\"] \n",
    "\n",
    "# Total Mean, Median, Variance, Standard Deviation, SEM\n",
    "mean_tv_s = np.mean(tumor_volume_s)\n",
    "median_tv_s = np.median(tumor_volume_s)\n",
    "var_tv_s = np.var(tumor_volume_s, ddof=0)\n",
    "sd_tv_s = np.std(tumor_volume_s, ddof=0)\n",
    "\n",
    "print(mean_tv_s)\n",
    "print(median_tv_s)\n",
    "print(var_tv_s)\n",
    "print(sd_tv_s)"
   ]
  },
  {
   "cell_type": "code",
   "execution_count": 518,
   "metadata": {},
   "outputs": [
    {
     "name": "stdout",
     "output_type": "stream",
     "text": [
      "494      8.666026\n",
      "495      8.831653\n",
      "496      9.236683\n",
      "497      9.271067\n",
      "498      9.454924\n",
      "          ...    \n",
      "1761     8.555892\n",
      "1762     9.016944\n",
      "1763    10.059672\n",
      "1858     8.610459\n",
      "1859     8.254115\n",
      "Length: 181, dtype: float64\n"
     ]
    }
   ],
   "source": [
    "\n",
    "print(stelasyn_group_df.sem(axis = 1))"
   ]
  },
  {
   "cell_type": "code",
   "execution_count": 519,
   "metadata": {},
   "outputs": [
    {
     "name": "stdout",
     "output_type": "stream",
     "text": [
      "  Regime Name   Mean  Median  Variance  Standard Deviation  Age_Months  \\\n",
      "0   Capomulin  40.68   41.56     24.84                4.98        0.51   \n",
      "1    Ramicane  40.21   40.67     23.38                4.84        0.39   \n",
      "2    Ketapril  55.24   53.70     68.19                8.25        0.44   \n",
      "3    Naftisol  54.33   52.50     65.81                8.11        0.49   \n",
      "4   Zoniferol  53.24   51.81     48.26                6.94        0.42   \n",
      "5    Stelasyn  54.23   52.43     59.12                7.69        0.60   \n",
      "6     Placebo  54.03   52.28     60.83                7.80        0.47   \n",
      "7   Infubinol  52.88   51.82     42.89                6.55        0.56   \n",
      "8    Ceftamin  52.59   51.78     39.07                6.25        0.60   \n",
      "9    Propriva  45.00   45.00      0.00                0.00       58.00   \n",
      "\n",
      "   Weight  Timepoint  Tumor Volume  Metastatic Sites  \n",
      "0    0.18       0.95          0.33              0.05  \n",
      "1    0.21       0.95          0.32              0.40  \n",
      "2    0.13       1.02          0.60              0.10  \n",
      "3    0.11       1.04          0.60              0.09  \n",
      "4    0.11       1.06          0.52              0.09  \n",
      "5    0.12       1.02          0.57              0.07  \n",
      "6    0.14       1.03          0.58              0.10  \n",
      "7    0.16       1.00          0.49              0.07  \n",
      "8    0.12       1.10          0.47              0.09  \n",
      "9    0.14       1.09          0.53              0.09  \n"
     ]
    }
   ],
   "source": [
    "# Assemble the resulting series into a single summary dataframe.\n",
    "\n",
    "combined_meds_df = pd.DataFrame({\"Regime Name\": [\"Capomulin\",\"Ramicane\",\"Ketapril\",\"Naftisol\",\"Zoniferol\",\"Stelasyn\",\"Placebo\",\"Infubinol\",\"Ceftamin\",\"Propriva\"], \"Mean\":[40.68,40.21,55.24,54.33,53.24,54.23,54.03,52.88,52.59,45], \"Median\":[41.56,40.67,53.70,52.50,51.81,52.43,52.28,51.82,51.78,45], \"Variance\":[24.84,23.38,68.19,65.81,48.26,59.12,60.83,42.89,39.07,0], \"Standard Deviation\":[4.98,4.84,8.25,8.11,6.94,7.69,7.80,6.55,6.25,0], \"Age_Months\":[.51,.39,.44,.49,.42,.60,.47,.56,.60,58], \"Weight\": [.18,.21,.13,.11,.11,.12,.14,.16,.12,.14], \"Timepoint\": [.95,.95,1.02,1.04,1.06,1.02,1.03,1,1.1,1.09], \"Tumor Volume\": [.33,.32,.60,.60,.52,.57,.58,.49,.47,.53], \"Metastatic Sites\":[.05,0.4,.10,.09,.09,.07,.10,.07,.09,.09]})\n",
    "print(combined_meds_df)\n"
   ]
  },
  {
   "cell_type": "code",
   "execution_count": 520,
   "metadata": {},
   "outputs": [
    {
     "name": "stdout",
     "output_type": "stream",
     "text": [
      "            Mean     Median   Variance  Standard Deviation  Age_Months  \\\n",
      "count  10.000000  10.000000  10.000000           10.000000   10.000000   \n",
      "mean   50.243000  49.355000  43.239000            6.141000    6.248000   \n",
      "std     5.896858   4.943261  21.956722            2.473111   18.183942   \n",
      "min    40.210000  40.670000   0.000000            0.000000    0.390000   \n",
      "25%    46.897500  46.695000  28.397500            5.297500    0.447500   \n",
      "50%    53.060000  51.815000  45.575000            6.745000    0.500000   \n",
      "75%    54.180000  52.392500  60.402500            7.772500    0.590000   \n",
      "max    55.240000  53.700000  68.190000            8.250000   58.000000   \n",
      "\n",
      "          Weight  Timepoint  Tumor Volume  Metastatic Sites  \n",
      "count  10.000000  10.000000     10.000000         10.000000  \n",
      "mean    0.142000   1.026000      0.501000          0.115000  \n",
      "std     0.032592   0.050816      0.102681          0.101352  \n",
      "min     0.110000   0.950000      0.320000          0.050000  \n",
      "25%     0.120000   1.005000      0.475000          0.075000  \n",
      "50%     0.135000   1.025000      0.525000          0.090000  \n",
      "75%     0.155000   1.055000      0.577500          0.097500  \n",
      "max     0.210000   1.100000      0.600000          0.400000  \n"
     ]
    }
   ],
   "source": [
    "# Generate a summary statistics table of mean, median, variance, standard deviation, and SEM of the tumor volume for each regimen\n",
    "\n",
    "print(combined_meds_df[[\"Regime Name\", \"Mean\", \"Median\", \"Variance\", \"Standard Deviation\", \"Age_Months\", \"Weight\", \"Timepoint\", \"Tumor Volume\", \"Metastatic Sites\"]].describe())\n"
   ]
  },
  {
   "cell_type": "markdown",
   "metadata": {},
   "source": [
    "## Bar and Pie Charts"
   ]
  },
  {
   "cell_type": "code",
   "execution_count": 521,
   "metadata": {},
   "outputs": [
    {
     "data": {
      "image/png": "[encoded data removed]",
      "text/plain": [
       "<Figure size 432x288 with 1 Axes>"
      ]
     },
     "metadata": {
      "needs_background": "light"
     },
     "output_type": "display_data"
    },
    {
     "data": {
      "text/plain": [
       "<Figure size 432x288 with 0 Axes>"
      ]
     },
     "metadata": {},
     "output_type": "display_data"
    }
   ],
   "source": [
    "# Generate a bar plot showing the total number of timepoints for all mice tested for each drug regimen using Pandas.\n",
    "\n",
    "combined_meds_df.plot(kind=\"bar\", x=\"Regime Name\", y=\"Timepoint\")\n",
    "plt.title(\"Total Number of Timepoints For All Mice\")\n",
    "plt.ylabel(\"Timepoints\")\n",
    "plt.xlabel(\"Regime\")\n",
    "plt.show()\n",
    "plt.tight_layout()"
   ]
  },
  {
   "cell_type": "code",
   "execution_count": 522,
   "metadata": {},
   "outputs": [
    {
     "data": {
      "image/png": "[encoded data removed]",
      "text/plain": [
       "<Figure size 432x288 with 1 Axes>"
      ]
     },
     "metadata": {
      "needs_background": "light"
     },
     "output_type": "display_data"
    }
   ],
   "source": [
    "# Generate a bar plot showing the total number of timepoints for all mice tested for each drug regimen using pyplot.\n",
    "\n",
    "regimes = [\"Capomulin\",\"Ramicane\",\"Ketapril\",\"Naftisol\",\"Zoniferol\",\"Stelasyn\",\"Placebo\",\"Infubinol\",\"Ceftamin\",\"Propriva\"]\n",
    "points = [0.95,0.95,1.02,1.04,1.06,1.02,1.03,1.00,1.10,1.09]\n",
    "\n",
    "x_axis = np.arange(0,len(regimes))\n",
    "\n",
    "plt.bar(x_axis, points, color=\"b\", align=\"center\")\n",
    "plt.title(\"Total Number of Timepoints For All Mice\")\n",
    "plt.ylabel(\"Timepoints\")\n",
    "plt.xlabel(\"Regime\")\n",
    "plt.show\n",
    "plt.tight_layout()\n"
   ]
  },
  {
   "cell_type": "code",
   "execution_count": 523,
   "metadata": {},
   "outputs": [
    {
     "name": "stdout",
     "output_type": "stream",
     "text": [
      "        Mouse ID  Drug Regimen  Age_months  Weight (g)  Timepoint  \\\n",
      "Sex                                                                 \n",
      "Female       930           930         930         930        930   \n",
      "Male         958           958         958         958        958   \n",
      "\n",
      "        Tumor Volume (mm3)  Metastatic Sites  \n",
      "Sex                                           \n",
      "Female                 930               930  \n",
      "Male                   958               958  \n"
     ]
    }
   ],
   "source": [
    "gender_data = combined_data_df.groupby(\"Sex\")\n",
    "print(gender_data.count())"
   ]
  },
  {
   "cell_type": "code",
   "execution_count": 524,
   "metadata": {},
   "outputs": [
    {
     "data": {
      "image/png": "[encoded data removed]",
      "text/plain": [
       "<Figure size 432x288 with 1 Axes>"
      ]
     },
     "metadata": {},
     "output_type": "display_data"
    },
    {
     "data": {
      "text/plain": [
       "<Figure size 432x288 with 0 Axes>"
      ]
     },
     "metadata": {},
     "output_type": "display_data"
    }
   ],
   "source": [
    "# Generate a pie plot showing the distribution of female versus male mice using Pandas\n",
    "\n",
    "gender_df = pd.DataFrame({\"Sex\": [\"Female\", \"Male\"], \"Total Amount\":[930, 958]}, index=[\"Female\",\"Male\"])\n",
    "gender_df.plot.pie(y=\"Total Amount\")\n",
    "plt.title(\"Total Number of Mice Per Gender\")\n",
    "plt.xlabel(\"Gender\")\n",
    "plt.show()\n",
    "plt.tight_layout()"
   ]
  },
  {
   "cell_type": "code",
   "execution_count": 525,
   "metadata": {},
   "outputs": [
    {
     "data": {
      "image/png": "[encoded data removed]",
      "text/plain": [
       "<Figure size 432x288 with 1 Axes>"
      ]
     },
     "metadata": {},
     "output_type": "display_data"
    },
    {
     "data": {
      "text/plain": [
       "<Figure size 432x288 with 0 Axes>"
      ]
     },
     "metadata": {},
     "output_type": "display_data"
    }
   ],
   "source": [
    "# Generate a pie plot showing the distribution of female versus male mice using pyplot\n",
    "\n",
    "labels = [\"Females\", \"Males\"]\n",
    "sizes = [930, 958]\n",
    "colors = [\"red\", \"blue\"]\n",
    "explode = (0,0)\n",
    "\n",
    "plt.pie(sizes, explode=explode, labels=labels, colors=colors, autopct=\"%1.1f%%\")\n",
    "plt.title(\"Total Number of Mice Per Gender\")\n",
    "plt.xlabel(\"Gender\")\n",
    "plt.ylabel(\"Total Amount\")\n",
    "plt.show()\n",
    "plt.tight_layout()\n"
   ]
  },
  {
   "cell_type": "markdown",
   "metadata": {},
   "source": [
    "## Quartiles, Outliers and Boxplots"
   ]
  },
  {
   "cell_type": "code",
   "execution_count": 526,
   "metadata": {},
   "outputs": [
    {
     "name": "stdout",
     "output_type": "stream",
     "text": [
      "9355.42046243\n"
     ]
    }
   ],
   "source": [
    "# Calculate the final tumor volume of each mouse across four of the treatment regimens:  \n",
    "# Capomulin Total Tumor Volume\n",
    "\n",
    "total_cap_vol = capomulin_group_df[\"Tumor Volume (mm3)\"].sum()\n",
    "print(total_cap_vol)"
   ]
  },
  {
   "cell_type": "code",
   "execution_count": 527,
   "metadata": {},
   "outputs": [
    {
     "name": "stdout",
     "output_type": "stream",
     "text": [
      "9169.41787521\n"
     ]
    }
   ],
   "source": [
    "# Ramicane Total Tumor Volume\n",
    "\n",
    "total_ram_vol = ramicane_group_df[\"Tumor Volume (mm3)\"].sum()\n",
    "print(total_ram_vol)"
   ]
  },
  {
   "cell_type": "code",
   "execution_count": 528,
   "metadata": {},
   "outputs": [
    {
     "name": "stdout",
     "output_type": "stream",
     "text": [
      "9413.49352933\n"
     ]
    }
   ],
   "source": [
    "# Infubinol Total Tumor Volume\n",
    "\n",
    "total_inf_vol = infubinol_group_df[\"Tumor Volume (mm3)\"].sum()\n",
    "print(total_inf_vol)"
   ]
  },
  {
   "cell_type": "code",
   "execution_count": 529,
   "metadata": {},
   "outputs": [
    {
     "name": "stdout",
     "output_type": "stream",
     "text": [
      "9361.228582110001\n"
     ]
    }
   ],
   "source": [
    "# Ceftamin Total Tumor Volume\n",
    "\n",
    "total_cef_vol = ceftamin_group_df[\"Tumor Volume (mm3)\"].sum()\n",
    "print(total_cef_vol)"
   ]
  },
  {
   "cell_type": "code",
   "execution_count": 530,
   "metadata": {},
   "outputs": [
    {
     "name": "stdout",
     "output_type": "stream",
     "text": [
      "      Age_months  Weight (g)  Timepoint  Tumor Volume (mm3)  Metastatic Sites\n",
      "0.10         3.0        17.0        0.0           33.058370               0.0\n",
      "0.25         7.0        17.0       10.0           37.685933               0.0\n",
      "0.50        16.5        20.5       20.0           41.557809               0.0\n",
      "0.75        20.0        22.0       35.0           45.000000               1.0\n"
     ]
    }
   ],
   "source": [
    "# Calculate the quartiles and IQR \n",
    "\n",
    "#Capomulin Quartiles\n",
    "cap_q = capomulin_group_df.quantile([.1, .25, .5, .75], axis = 0)\n",
    "print(cap_q)"
   ]
  },
  {
   "cell_type": "code",
   "execution_count": 531,
   "metadata": {},
   "outputs": [
    {
     "name": "stdout",
     "output_type": "stream",
     "text": [
      "7.314067000000001\n"
     ]
    }
   ],
   "source": [
    "#Capomulin IQR\n",
    "\n",
    "print(45.000000-37.685933)"
   ]
  },
  {
   "cell_type": "code",
   "execution_count": 532,
   "metadata": {},
   "outputs": [
    {
     "name": "stdout",
     "output_type": "stream",
     "text": [
      "      Age_months  Weight (g)  Timepoint  Tumor Volume (mm3)  Metastatic Sites\n",
      "0.10         4.0        16.0        0.0           34.064154               0.0\n",
      "0.25         7.0        17.0       10.0           36.674635               0.0\n",
      "0.50         9.0        19.0       20.0           40.673236               0.0\n",
      "0.75        18.0        22.0       35.0           45.000000               1.0\n"
     ]
    }
   ],
   "source": [
    "#Ramicane Quartiles\n",
    "\n",
    "ram_q = ramicane_group_df.quantile([.1, .25, .5, .75], axis = 0)\n",
    "print(ram_q)"
   ]
  },
  {
   "cell_type": "code",
   "execution_count": 533,
   "metadata": {},
   "outputs": [
    {
     "name": "stdout",
     "output_type": "stream",
     "text": [
      "8.325364999999998\n"
     ]
    }
   ],
   "source": [
    "#Ramicane IQR\n",
    "\n",
    "print(45.000000-36.674635)"
   ]
  },
  {
   "cell_type": "code",
   "execution_count": 534,
   "metadata": {},
   "outputs": [
    {
     "name": "stdout",
     "output_type": "stream",
     "text": [
      "      Age_months  Weight (g)  Timepoint  Tumor Volume (mm3)  Metastatic Sites\n",
      "0.10         3.0        25.0        0.0           45.000000               0.0\n",
      "0.25         8.0        25.0        5.0           47.312353               0.0\n",
      "0.50        20.0        27.0       15.0           51.820584               1.0\n",
      "0.75        23.0        29.0       30.0           57.314444               2.0\n"
     ]
    }
   ],
   "source": [
    "#Infubinol Quartiles\n",
    "\n",
    "inf_q = infubinol_group_df.quantile([.1, .25, .5, .75], axis = 0)\n",
    "print(inf_q)"
   ]
  },
  {
   "cell_type": "code",
   "execution_count": 535,
   "metadata": {},
   "outputs": [
    {
     "name": "stdout",
     "output_type": "stream",
     "text": [
      "10.002091\n"
     ]
    }
   ],
   "source": [
    "#Infubinol IQR\n",
    "\n",
    "print(57.314444-47.312353)"
   ]
  },
  {
   "cell_type": "code",
   "execution_count": 536,
   "metadata": {},
   "outputs": [
    {
     "name": "stdout",
     "output_type": "stream",
     "text": [
      "      Age_months  Weight (g)  Timepoint  Tumor Volume (mm3)  Metastatic Sites\n",
      "0.10         3.0        25.0        0.0           45.000000               0.0\n",
      "0.25         6.0        26.0        5.0           47.208427               0.0\n",
      "0.50        12.0        28.0       20.0           51.776157               1.0\n",
      "0.75        20.0        28.0       30.0           56.801438               2.0\n"
     ]
    }
   ],
   "source": [
    "#Ceftamin Quartiles\n",
    "\n",
    "cef_q = ceftamin_group_df.quantile([.1, .25, .5, .75], axis = 0)\n",
    "print(cef_q)"
   ]
  },
  {
   "cell_type": "code",
   "execution_count": 537,
   "metadata": {},
   "outputs": [
    {
     "name": "stdout",
     "output_type": "stream",
     "text": [
      "9.593018\n"
     ]
    }
   ],
   "source": [
    "#Ceftamin IQR\n",
    "\n",
    "print(56.801438-47.20842)"
   ]
  },
  {
   "cell_type": "code",
   "execution_count": 538,
   "metadata": {},
   "outputs": [
    {
     "name": "stdout",
     "output_type": "stream",
     "text": [
      "Values below 26.715 could be outliers.\n",
      "Values above 55.965 could be outliers.\n"
     ]
    }
   ],
   "source": [
    "# Calculate quantitatively determine if there are any potential outliers across all four treatment regimens. \n",
    "# Capomulin Outliers\n",
    "\n",
    "lower_bound_cap = 37.68-(1.5*7.31)\n",
    "upper_bound_cap = 45.00+(1.5*7.31)\n",
    "print(f\"Values below {lower_bound_cap} could be outliers.\")\n",
    "print(f\"Values above {upper_bound_cap} could be outliers.\")"
   ]
  },
  {
   "cell_type": "code",
   "execution_count": 539,
   "metadata": {},
   "outputs": [
    {
     "name": "stdout",
     "output_type": "stream",
     "text": [
      "Values below 24.19 could be outliers.\n",
      "Values above 57.480000000000004 could be outliers.\n"
     ]
    }
   ],
   "source": [
    "#Ramicane Outliers\n",
    "\n",
    "lower_bound_ram = 36.67-(1.5*8.32)\n",
    "upper_bound_ram = 45.00+(1.5*8.32)\n",
    "print(f\"Values below {lower_bound_ram} could be outliers.\")\n",
    "print(f\"Values above {upper_bound_ram} could be outliers.\")"
   ]
  },
  {
   "cell_type": "code",
   "execution_count": 540,
   "metadata": {},
   "outputs": [
    {
     "name": "stdout",
     "output_type": "stream",
     "text": [
      "Values below 32.31 could be outliers.\n",
      "Values above 72.31 could be outliers.\n"
     ]
    }
   ],
   "source": [
    "#Infubino Outliers\n",
    "\n",
    "lower_bound_inf = 47.31-(1.5*10.00)\n",
    "upper_bound_inf = 57.31+(1.5*10.00)\n",
    "print(f\"Values below {lower_bound_inf} could be outliers.\")\n",
    "print(f\"Values above {upper_bound_inf} could be outliers.\")"
   ]
  },
  {
   "cell_type": "code",
   "execution_count": 541,
   "metadata": {},
   "outputs": [
    {
     "name": "stdout",
     "output_type": "stream",
     "text": [
      "Values below 32.815000000000005 could be outliers.\n",
      "Values above 71.185 could be outliers.\n"
     ]
    }
   ],
   "source": [
    "#Ceftamin Outliers\n",
    "\n",
    "lower_bound_cef = 47.20-(1.5*9.59)\n",
    "upper_bound_cef = 56.80+(1.5*9.59)\n",
    "print(f\"Values below {lower_bound_cef} could be outliers.\")\n",
    "print(f\"Values above {upper_bound_cef} could be outliers.\")"
   ]
  },
  {
   "cell_type": "code",
   "execution_count": 542,
   "metadata": {},
   "outputs": [
    {
     "data": {
      "image/png": "[encoded data removed]",
      "text/plain": [
       "<Figure size 432x288 with 1 Axes>"
      ]
     },
     "metadata": {
      "needs_background": "light"
     },
     "output_type": "display_data"
    }
   ],
   "source": [
    "# Generate a box plot of the final tumor volume of each mouse across four regimens of interest\n",
    "\n",
    "total_volume = [9355.42, 9169.41, 9413.49, 9361.23]\n",
    "\n",
    "red_square = dict(markerfacecolor=\"r\", marker=\"s\")\n",
    "fig1, axl = plt.subplots()\n",
    "axl.set_title(\"Final Tumor Volume\")\n",
    "axl.boxplot(total_volume, flierprops=red_square)\n",
    "plt.show()"
   ]
  },
  {
   "cell_type": "markdown",
   "metadata": {},
   "source": [
    "## Line and Scatter Plots"
   ]
  },
  {
   "cell_type": "code",
   "execution_count": 543,
   "metadata": {},
   "outputs": [
    {
     "name": "stdout",
     "output_type": "stream",
     "text": [
      "   Mouse ID  Timepoint  Tumor Volume (mm3)\n",
      "10     s185          0           45.000000\n",
      "11     s185          5           43.878496\n",
      "12     s185         10           37.614948\n",
      "13     s185         15           38.177232\n",
      "14     s185         20           36.866876\n",
      "15     s185         25           33.949940\n",
      "16     s185         30           32.959671\n",
      "17     s185         35           28.328531\n",
      "18     s185         40           25.472143\n",
      "19     s185         45           23.343598\n",
      "20     x401          0           45.000000\n",
      "21     x401          5           45.473753\n",
      "22     x401         10           39.113891\n",
      "23     x401         15           39.776250\n",
      "24     x401         20           36.065835\n",
      "25     x401         25           36.617120\n",
      "26     x401         30           32.915292\n",
      "27     x401         35           30.206825\n",
      "28     x401         40           28.167397\n",
      "29     x401         45           28.484033\n"
     ]
    }
   ],
   "source": [
    "# Generate a line plot of tumor volume vs. time point for a mouse treated with Capomulin\n",
    "\n",
    "review_capomulin_group_df = capomulin_group_df[[\"Mouse ID\",\"Timepoint\",\"Tumor Volume (mm3)\"]]\n",
    "print(review_capomulin_group_df.head(20))"
   ]
  },
  {
   "cell_type": "code",
   "execution_count": 544,
   "metadata": {},
   "outputs": [
    {
     "data": {
      "image/png": "[encoded data removed]",
      "text/plain": [
       "<Figure size 432x288 with 1 Axes>"
      ]
     },
     "metadata": {
      "needs_background": "light"
     },
     "output_type": "display_data"
    }
   ],
   "source": [
    "#Mouse s185 Line Plot\n",
    "timepoints_c = [0,5,10,15,20,25,30,25,40,45]\n",
    "x_axis = np.arange(len(timepoints_c))\n",
    "y_axis = [45,43.87, 37.61,38.17,36.86,33.94,32.95,28.32,25.47,23.34]\n",
    "\n",
    "plt.plot(x_axis,y_axis)\n",
    "plt.title(\"Tumor Volume vs Timepoint\")\n",
    "plt.ylabel(\"Tumor Volume\")\n",
    "plt.xlabel(\"Timepoint\")\n",
    "plt.show()"
   ]
  },
  {
   "cell_type": "code",
   "execution_count": 545,
   "metadata": {},
   "outputs": [
    {
     "name": "stdout",
     "output_type": "stream",
     "text": [
      "      Weight (g)  Tumor Volume (mm3)\n",
      "10            17           45.000000\n",
      "11            17           43.878496\n",
      "12            17           37.614948\n",
      "13            17           38.177232\n",
      "14            17           36.866876\n",
      "...          ...                 ...\n",
      "440           24           47.685963\n",
      "1452          25           45.000000\n",
      "1453          25           45.597064\n",
      "1454          25           46.059608\n",
      "1455          25           46.539206\n",
      "\n",
      "[230 rows x 2 columns]\n"
     ]
    }
   ],
   "source": [
    "#Generate a scatter plot of tumor volume versus mouse weight for the Capomulin treatment regimen.\n",
    "#Part 1 \n",
    "\n",
    "review_capomulin_group_df_two = capomulin_group_df[[\"Weight (g)\", \"Tumor Volume (mm3)\"]]\n",
    "print(review_capomulin_group_df_two)"
   ]
  },
  {
   "cell_type": "code",
   "execution_count": 546,
   "metadata": {},
   "outputs": [
    {
     "data": {
      "image/png": "[encoded data removed]",
      "text/plain": [
       "<Figure size 432x288 with 1 Axes>"
      ]
     },
     "metadata": {
      "needs_background": "light"
     },
     "output_type": "display_data"
    }
   ],
   "source": [
    "#Generate a scatter plot of tumor volume versus mouse weight for the Capomulin treatment regimen\n",
    "# Part 2\n",
    "\n",
    "review_capomulin_group_df_two.plot(x=\"Tumor Volume (mm3)\" ,y=\"Weight (g)\", kind=\"scatter\", marker=\"o\", facecolors=\"blue\", edgecolors=\"black\")\n",
    "plt.title(\"Tumor Volume vs Weight\")\n",
    "plt.ylabel(\"Tumor Volume\")\n",
    "plt.xlabel(\"Weight\")\n",
    "plt.show()"
   ]
  },
  {
   "cell_type": "markdown",
   "metadata": {},
   "source": [
    "## Correlation and Regression"
   ]
  },
  {
   "cell_type": "code",
   "execution_count": 547,
   "metadata": {},
   "outputs": [
    {
     "name": "stdout",
     "output_type": "stream",
     "text": [
      "The correlation between both factors is 0.53\n"
     ]
    }
   ],
   "source": [
    "# Calculate the correlation coefficient for mouse weight and average tumor volume for the Capomulin regimen\n",
    "\n",
    "weight = capomulin_group_df.iloc[:,4]\n",
    "tumor_volume = capomulin_group_df.iloc[:,6]\n",
    "correlation = st. pearsonr(weight, tumor_volume) \n",
    "print(f\"The correlation between both factors is {round(correlation[0],2)}\")"
   ]
  },
  {
   "cell_type": "code",
   "execution_count": 548,
   "metadata": {},
   "outputs": [
    {
     "data": {
      "image/png": "[encoded data removed]",
      "text/plain": [
       "<Figure size 432x288 with 1 Axes>"
      ]
     },
     "metadata": {
      "needs_background": "light"
     },
     "output_type": "display_data"
    }
   ],
   "source": [
    "# Calculate the linear regression model for mouse weight and average tumor volume for the Capomulin regimen\n",
    "x_values = review_capomulin_group_df_two[\"Tumor Volume (mm3)\"] \n",
    "y_values = review_capomulin_group_df_two[\"Weight (g)\"]\n",
    "(slope, intercept, rvalue, pvalue, stderr) = st.linregress(x_values, y_values)\n",
    "regress_values = x_values * slope + intercept\n",
    "equation = \"y = \" + str(round(slope,2)) + \"x + \" + str(round(intercept,2))\n",
    "\n",
    "plt.scatter(x_values,y_values)\n",
    "plt.plot(x_values, regress_values, \"r\")\n",
    "plt.figtext(.55,.35,\"y = 0.29x + 8.27\", fontsize=15, color=\"red\")\n",
    "plt.xlabel(\"Weight\")\n",
    "plt.ylabel(\"Tumor Volume\")\n",
    "plt.show()\n",
    "\n",
    "#Had to print equation (in the next cell) and manually add it to the figure, using annotate code did not work"
   ]
  },
  {
   "cell_type": "code",
   "execution_count": 549,
   "metadata": {},
   "outputs": [
    {
     "name": "stdout",
     "output_type": "stream",
     "text": [
      "y = 0.29x + 8.27\n"
     ]
    }
   ],
   "source": [
    "print(equation)"
   ]
  }
 ],
 "metadata": {
  "anaconda-cloud": {},
  "kernelspec": {
   "display_name": "Python 3",
   "language": "python",
   "name": "python3"
  },
  "language_info": {
   "codemirror_mode": {
    "name": "ipython",
    "version": 3
   },
   "file_extension": ".py",
   "mimetype": "text/x-python",
   "name": "python",
   "nbconvert_exporter": "python",
   "pygments_lexer": "ipython3",
   "version": "3.6.10"
  }
 },
 "nbformat": 4,
 "nbformat_minor": 4
}
